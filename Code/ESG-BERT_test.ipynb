{
 "cells": [
  {
   "cell_type": "code",
   "execution_count": null,
   "metadata": {},
   "outputs": [],
   "source": [
    "#This model classify the text into one of the 26 following categories\n",
    "# Business_Ethics :  0\n",
    "# Data_Security :  1\n",
    "# Access_And_Affordability :  2\n",
    "# Business_Model_Resilience :  3\n",
    "# Competitive_Behavior :  4\n",
    "# Critical_Incident_Risk_Management :  5\n",
    "# Customer_Welfare :  6\n",
    "# Director_Removal :  7\n",
    "# Employee_Engagement_Inclusion_And_Diversity :  8\n",
    "# Employee_Health_And_Safety :  9\n",
    "# Human_Rights_And_Community_Relations :  10\n",
    "# Labor_Practices :  11\n",
    "# Management_Of_Legal_And_Regulatory_Framework :  12\n",
    "# Physical_Impacts_Of_Climate_Change :  13\n",
    "# Product_Quality_And_Safety :  14\n",
    "# Product_Design_And_Lifecycle_Management :  15\n",
    "# Selling_Practices_And_Product_Labeling :  16\n",
    "# Supply_Chain_Management :  17\n",
    "# Systemic_Risk_Management :  18\n",
    "# Waste_And_Hazardous_Materials_Management :  19\n",
    "# Water_And_Wastewater_Management :  20\n",
    "# Air_Quality :  21\n",
    "# Customer_Privacy :  22\n",
    "# Ecological_Impacts :  23\n",
    "# Energy_Management :  24\n",
    "# GHG_Emissions :  25"
   ]
  },
  {
   "cell_type": "code",
   "execution_count": 44,
   "metadata": {},
   "outputs": [],
   "source": [
    "from transformers import BertForSequenceClassification\n",
    "from transformers import AutoTokenizer\n",
    "import torch.nn.functional as F\n",
    "import torch\n"
   ]
  },
  {
   "cell_type": "code",
   "execution_count": 45,
   "metadata": {},
   "outputs": [],
   "source": [
    "model = BertForSequenceClassification.from_pretrained( 'C:/Users/User/Desktop/Ahmad/Stages/SurfMetrics/ESG-BERT/Drive')\n",
    "tokenizer = AutoTokenizer.from_pretrained('C:/Users/User/Desktop/Ahmad/Stages/SurfMetrics/ESG-BERT/Drive')"
   ]
  },
  {
   "cell_type": "code",
   "execution_count": 46,
   "metadata": {},
   "outputs": [],
   "source": [
    "text_file = open('C:/Users/User/Desktop/Ahmad/Stages/SurfMetrics/ESG-BERT/Git/predict2.txt', 'r')\n",
    "text = text_file.read()"
   ]
  },
  {
   "cell_type": "code",
   "execution_count": 47,
   "metadata": {},
   "outputs": [],
   "source": [
    "tokens = tokenizer(text, return_tensors='pt')"
   ]
  },
  {
   "cell_type": "code",
   "execution_count": 48,
   "metadata": {},
   "outputs": [
    {
     "data": {
      "text/plain": [
       "SequenceClassifierOutput(loss=None, logits=tensor([[ 0.1351, -0.2154, -0.3363, -0.2524,  0.1383, -1.1253, -0.1641,  0.0272,\n",
       "          6.1360,  1.1259,  0.3955,  1.8879, -0.8685, -0.9584, -0.1296, -0.4500,\n",
       "         -0.8247, -0.5778, -0.0971,  0.1084, -0.3945, -0.7704,  0.0984, -0.4902,\n",
       "         -0.8994, -0.6315]], grad_fn=<AddmmBackward0>), hidden_states=None, attentions=None)"
      ]
     },
     "execution_count": 48,
     "metadata": {},
     "output_type": "execute_result"
    }
   ],
   "source": [
    "output = model(**tokens)\n",
    "output"
   ]
  },
  {
   "cell_type": "code",
   "execution_count": 49,
   "metadata": {},
   "outputs": [
    {
     "data": {
      "text/plain": [
       "tensor([[2.3395e-03, 1.6477e-03, 1.4601e-03, 1.5878e-03, 2.3470e-03, 6.6335e-04,\n",
       "         1.7345e-03, 2.1001e-03, 9.4462e-01, 6.3011e-03, 3.0352e-03, 1.3501e-02,\n",
       "         8.5751e-04, 7.8379e-04, 1.7954e-03, 1.3032e-03, 8.9598e-04, 1.1469e-03,\n",
       "         1.8547e-03, 2.2778e-03, 1.3776e-03, 9.4591e-04, 2.2552e-03, 1.2519e-03,\n",
       "         8.3144e-04, 1.0868e-03]], grad_fn=<SoftmaxBackward0>)"
      ]
     },
     "execution_count": 49,
     "metadata": {},
     "output_type": "execute_result"
    }
   ],
   "source": [
    "prediction = F.softmax(output.logits, dim = 1)\n",
    "prediction"
   ]
  },
  {
   "cell_type": "code",
   "execution_count": 43,
   "metadata": {},
   "outputs": [
    {
     "name": "stdout",
     "output_type": "stream",
     "text": [
      "tensor([8])\n"
     ]
    }
   ],
   "source": [
    "label = torch.argmax(prediction, dim = 1)\n",
    "print(label)"
   ]
  }
 ],
 "metadata": {
  "interpreter": {
   "hash": "9650cb4e16cdd4a8e8e2d128bf38d875813998db22a3c986335f89e0cb4d7bb2"
  },
  "kernelspec": {
   "display_name": "Python 3.8.2 64-bit",
   "language": "python",
   "name": "python3"
  },
  "language_info": {
   "codemirror_mode": {
    "name": "ipython",
    "version": 3
   },
   "file_extension": ".py",
   "mimetype": "text/x-python",
   "name": "python",
   "nbconvert_exporter": "python",
   "pygments_lexer": "ipython3",
   "version": "3.8.2"
  },
  "orig_nbformat": 4
 },
 "nbformat": 4,
 "nbformat_minor": 2
}
