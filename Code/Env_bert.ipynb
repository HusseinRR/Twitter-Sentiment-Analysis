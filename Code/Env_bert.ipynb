{
 "cells": [
  {
   "cell_type": "code",
   "execution_count": 1,
   "metadata": {},
   "outputs": [
    {
     "name": "stderr",
     "output_type": "stream",
     "text": [
      "Downloading: 100%|██████████| 345/345 [00:00<00:00, 173kB/s]\n",
      "Downloading: 100%|██████████| 190/190 [00:00<00:00, 63.5kB/s]\n",
      "Downloading: 100%|██████████| 4.01k/4.01k [00:00<00:00, 1.34MB/s]\n",
      "Downloading: 100%|██████████| 555/555 [00:00<00:00, 277kB/s]\n",
      "Downloading: 100%|██████████| 122/122 [00:00<00:00, 61.1kB/s]\n",
      "Downloading: 100%|██████████| 229/229 [00:00<00:00, 115kB/s]\n",
      "Downloading: 100%|██████████| 265M/265M [01:27<00:00, 3.05MB/s] \n",
      "Downloading: 100%|██████████| 53.0/53.0 [00:00<00:00, 26.0kB/s]\n",
      "Downloading: 100%|██████████| 112/112 [00:00<00:00, 108kB/s]\n",
      "Downloading: 100%|██████████| 466k/466k [00:00<00:00, 1.01MB/s]\n",
      "Downloading: 100%|██████████| 505/505 [00:00<00:00, 169kB/s]\n",
      "Downloading: 100%|██████████| 232k/232k [00:00<00:00, 613kB/s] \n",
      "Downloading: 100%|██████████| 2.00/2.00 [00:00<00:00, 1.00kB/s]\n",
      "Downloading: 100%|██████████| 1.30k/1.30k [00:00<00:00, 440kB/s]\n",
      "Downloading: 100%|██████████| 226k/226k [00:00<00:00, 640kB/s] \n",
      "Downloading: 100%|██████████| 112/112 [00:00<00:00, 28.0kB/s]\n",
      "Downloading: 100%|██████████| 256M/256M [01:04<00:00, 4.17MB/s] \n",
      "All model checkpoint layers were used when initializing TFDistilBertForSequenceClassification.\n",
      "\n",
      "All the layers of TFDistilBertForSequenceClassification were initialized from the model checkpoint at d4data/environmental-due-diligence-model.\n",
      "If your task is similar to the task the model of the checkpoint was trained on, you can already use TFDistilBertForSequenceClassification for predictions without further training.\n"
     ]
    }
   ],
   "source": [
    "# load all the functions\n",
    "from EnvBert.due_diligence import *"
   ]
  },
  {
   "cell_type": "code",
   "execution_count": 2,
   "metadata": {},
   "outputs": [],
   "source": [
    "# returns the predicted class along with the probability of the actual EnvBert model\n",
    "doc = \"\"\"\n",
    "\tweathered shale was encountered below the surface area with fluvial deposits. \n",
    "\tSediments in the coastal plain region are found above and below the bedrock \n",
    "\twith sandstones and shales that form the basement rock\"\n",
    "      \"\"\""
   ]
  },
  {
   "cell_type": "code",
   "execution_count": 3,
   "metadata": {},
   "outputs": [
    {
     "data": {
      "text/plain": [
       "['Geology', 0.6782939870884354]"
      ]
     },
     "execution_count": 3,
     "metadata": {},
     "output_type": "execute_result"
    }
   ],
   "source": [
    "envbert_predict(doc)"
   ]
  },
  {
   "cell_type": "code",
   "execution_count": null,
   "metadata": {},
   "outputs": [],
   "source": []
  }
 ],
 "metadata": {
  "kernelspec": {
   "display_name": "Python 3.8.2 64-bit",
   "language": "python",
   "name": "python3"
  },
  "language_info": {
   "codemirror_mode": {
    "name": "ipython",
    "version": 3
   },
   "file_extension": ".py",
   "mimetype": "text/x-python",
   "name": "python",
   "nbconvert_exporter": "python",
   "pygments_lexer": "ipython3",
   "version": "3.8.2"
  },
  "orig_nbformat": 4,
  "vscode": {
   "interpreter": {
    "hash": "9650cb4e16cdd4a8e8e2d128bf38d875813998db22a3c986335f89e0cb4d7bb2"
   }
  }
 },
 "nbformat": 4,
 "nbformat_minor": 2
}
