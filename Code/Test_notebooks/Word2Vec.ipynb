{
  "nbformat": 4,
  "nbformat_minor": 0,
  "metadata": {
    "colab": {
      "name": "Word2Vec.ipynb",
      "provenance": [],
      "collapsed_sections": []
    },
    "kernelspec": {
      "name": "python3",
      "display_name": "Python 3"
    },
    "language_info": {
      "name": "python"
    }
  },
  "cells": [
    {
      "cell_type": "code",
      "execution_count": 28,
      "metadata": {
        "id": "dsAdRK4vAnj0"
      },
      "outputs": [],
      "source": [
        "import re\n",
        "import logging\n",
        "import numpy as np\n",
        "import pandas as pd\n",
        "import multiprocessing\n",
        "\n",
        "from re import sub\n",
        "from time import time \n",
        "from gensim.models import Word2Vec\n",
        "from collections import defaultdict\n",
        "from gensim.models import KeyedVectors\n",
        "from gensim.test.utils import get_tmpfile\n",
        "from gensim.models.phrases import Phrases, Phraser\n",
        "import tweepy as tw\n",
        "from sklearn.cluster import KMeans\n",
        "\n",
        "logging.basicConfig(format=\"%(levelname)s - %(asctime)s: %(message)s\", datefmt= '%H:%M:%S', level=logging.INFO)"
      ]
    },
    {
      "cell_type": "code",
      "source": [
        "consumer_key= 'GoN90XkTehFV4lNMk1Whk8JYe'\n",
        "consumer_secret= 'WCpGzX2T67hAF56EU1qdAFo0lO5EoIv7fgrEoNtwa8dvv1fuLz'\n",
        "access_token= '1417219540904259594-CdqMIpFBK10mF7eY9l2LRBNW1PbD53'\n",
        "access_token_secret= 'G1P2vYYXB3BeShIG5fvPEgYMFpY5sB0LMfS5mfHk2yLz9'"
      ],
      "metadata": {
        "id": "a5kaUJAZG29u"
      },
      "execution_count": 29,
      "outputs": []
    },
    {
      "cell_type": "code",
      "source": [
        "auth = tw.OAuthHandler(consumer_key, consumer_secret)\n",
        "auth.set_access_token(access_token, access_token_secret)\n",
        "api =tw.API(auth,wait_on_rate_limit=True,wait_on_rate_limit_notify=True)"
      ],
      "metadata": {
        "id": "KHenZEuhHwyw"
      },
      "execution_count": 30,
      "outputs": []
    },
    {
      "cell_type": "code",
      "source": [
        "def dataframe(text, size = 100, lang = \"en\"):\n",
        "    tweets = tw.Cursor(api.search ,q= text, lang=lang , tweet_mode=\"extended\").items(size)\n",
        "    tweet =[]\n",
        "    for i in tweets :\n",
        "        tweet.append(i.full_text)\n",
        "    df = pd.DataFrame({'tweet': tweet})\n",
        "    #Removing retweets:\n",
        "    df = df[~df.tweet.str.contains(\"RT\")] \n",
        "    df= df.reset_index(drop=True)\n",
        "    return df"
      ],
      "metadata": {
        "id": "zjHosxUOHydk"
      },
      "execution_count": 31,
      "outputs": []
    },
    {
      "cell_type": "code",
      "source": [
        "def preprocess(text):\n",
        "    ''' Pre process and convert texts to a list of words \n",
        "    method inspired by method from eliorc github repo: https://github.com/eliorc/Medium/blob/master/MaLSTM.ipynb'''\n",
        "    new_text = []\n",
        "    for t in text.split(\" \"):\n",
        "        t = '@user' if t.startswith('@') and len(t) > 1 else t\n",
        "        t = 'http' if t.startswith('http') else t\n",
        "        new_text.append(t)\n",
        "    text = \" \".join(new_text)\n",
        "    text = str(text)\n",
        "    text = text.lower()\n",
        "\n",
        "    # Clean the text\n",
        "    text = sub(r\"[^A-Za-z0-9^,!?.\\/'+]\", \" \", text)\n",
        "    text = sub(r\"\\+\", \" plus \", text)\n",
        "    text = sub(r\",\", \" \", text)\n",
        "    text = sub(r\"\\.\", \" \", text)\n",
        "    text = sub(r\"!\", \" ! \", text)\n",
        "    text = sub(r\"\\?\", \" ? \", text)\n",
        "    text = sub(r\"'\", \" \", text)\n",
        "    text = sub(r\":\", \" : \", text)\n",
        "    text = sub(r\"\\s{2,}\", \" \", text)\n",
        "\n",
        "    text = text.split()\n",
        "\n",
        "    return text  "
      ],
      "metadata": {
        "id": "EL0urB6FTgKR"
      },
      "execution_count": 32,
      "outputs": []
    },
    {
      "cell_type": "code",
      "source": [
        "df = dataframe(\"#esg\", 100000)\n",
        "df.head(5)"
      ],
      "metadata": {
        "colab": {
          "base_uri": "https://localhost:8080/",
          "height": 310
        },
        "id": "d0_NkQRZH7yu",
        "outputId": "c33452d6-1e81-4470-d9f3-033488af9a73"
      },
      "execution_count": 83,
      "outputs": [
        {
          "output_type": "stream",
          "name": "stderr",
          "text": [
            "WARNING - 09:48:18: Rate limit reached. Sleeping for: 31\n",
            "WARNING - 09:49:39: Rate limit reached. Sleeping for: 855\n",
            "WARNING - 10:04:47: Rate limit reached. Sleeping for: 853\n",
            "WARNING - 10:19:54: Rate limit reached. Sleeping for: 852\n",
            "WARNING - 10:35:00: Rate limit reached. Sleeping for: 851\n",
            "WARNING - 10:50:03: Rate limit reached. Sleeping for: 853\n"
          ]
        },
        {
          "output_type": "execute_result",
          "data": {
            "text/plain": [
              "                                               tweet\n",
              "0  The HKTDC hosted a #webinar last month on “Sus...\n",
              "1  As the main asset owners in the region, pensio...\n",
              "2  We are proud to announce that our Swedish alum...\n",
              "3  The need for more sustainable investments is g...\n",
              "4  9/10 The Value Preservation Imperative (Milest..."
            ],
            "text/html": [
              "\n",
              "  <div id=\"df-e6f440a2-e9b9-4d42-b7ea-65a8f1542886\">\n",
              "    <div class=\"colab-df-container\">\n",
              "      <div>\n",
              "<style scoped>\n",
              "    .dataframe tbody tr th:only-of-type {\n",
              "        vertical-align: middle;\n",
              "    }\n",
              "\n",
              "    .dataframe tbody tr th {\n",
              "        vertical-align: top;\n",
              "    }\n",
              "\n",
              "    .dataframe thead th {\n",
              "        text-align: right;\n",
              "    }\n",
              "</style>\n",
              "<table border=\"1\" class=\"dataframe\">\n",
              "  <thead>\n",
              "    <tr style=\"text-align: right;\">\n",
              "      <th></th>\n",
              "      <th>tweet</th>\n",
              "    </tr>\n",
              "  </thead>\n",
              "  <tbody>\n",
              "    <tr>\n",
              "      <th>0</th>\n",
              "      <td>The HKTDC hosted a #webinar last month on “Sus...</td>\n",
              "    </tr>\n",
              "    <tr>\n",
              "      <th>1</th>\n",
              "      <td>As the main asset owners in the region, pensio...</td>\n",
              "    </tr>\n",
              "    <tr>\n",
              "      <th>2</th>\n",
              "      <td>We are proud to announce that our Swedish alum...</td>\n",
              "    </tr>\n",
              "    <tr>\n",
              "      <th>3</th>\n",
              "      <td>The need for more sustainable investments is g...</td>\n",
              "    </tr>\n",
              "    <tr>\n",
              "      <th>4</th>\n",
              "      <td>9/10 The Value Preservation Imperative (Milest...</td>\n",
              "    </tr>\n",
              "  </tbody>\n",
              "</table>\n",
              "</div>\n",
              "      <button class=\"colab-df-convert\" onclick=\"convertToInteractive('df-e6f440a2-e9b9-4d42-b7ea-65a8f1542886')\"\n",
              "              title=\"Convert this dataframe to an interactive table.\"\n",
              "              style=\"display:none;\">\n",
              "        \n",
              "  <svg xmlns=\"http://www.w3.org/2000/svg\" height=\"24px\"viewBox=\"0 0 24 24\"\n",
              "       width=\"24px\">\n",
              "    <path d=\"M0 0h24v24H0V0z\" fill=\"none\"/>\n",
              "    <path d=\"M18.56 5.44l.94 2.06.94-2.06 2.06-.94-2.06-.94-.94-2.06-.94 2.06-2.06.94zm-11 1L8.5 8.5l.94-2.06 2.06-.94-2.06-.94L8.5 2.5l-.94 2.06-2.06.94zm10 10l.94 2.06.94-2.06 2.06-.94-2.06-.94-.94-2.06-.94 2.06-2.06.94z\"/><path d=\"M17.41 7.96l-1.37-1.37c-.4-.4-.92-.59-1.43-.59-.52 0-1.04.2-1.43.59L10.3 9.45l-7.72 7.72c-.78.78-.78 2.05 0 2.83L4 21.41c.39.39.9.59 1.41.59.51 0 1.02-.2 1.41-.59l7.78-7.78 2.81-2.81c.8-.78.8-2.07 0-2.86zM5.41 20L4 18.59l7.72-7.72 1.47 1.35L5.41 20z\"/>\n",
              "  </svg>\n",
              "      </button>\n",
              "      \n",
              "  <style>\n",
              "    .colab-df-container {\n",
              "      display:flex;\n",
              "      flex-wrap:wrap;\n",
              "      gap: 12px;\n",
              "    }\n",
              "\n",
              "    .colab-df-convert {\n",
              "      background-color: #E8F0FE;\n",
              "      border: none;\n",
              "      border-radius: 50%;\n",
              "      cursor: pointer;\n",
              "      display: none;\n",
              "      fill: #1967D2;\n",
              "      height: 32px;\n",
              "      padding: 0 0 0 0;\n",
              "      width: 32px;\n",
              "    }\n",
              "\n",
              "    .colab-df-convert:hover {\n",
              "      background-color: #E2EBFA;\n",
              "      box-shadow: 0px 1px 2px rgba(60, 64, 67, 0.3), 0px 1px 3px 1px rgba(60, 64, 67, 0.15);\n",
              "      fill: #174EA6;\n",
              "    }\n",
              "\n",
              "    [theme=dark] .colab-df-convert {\n",
              "      background-color: #3B4455;\n",
              "      fill: #D2E3FC;\n",
              "    }\n",
              "\n",
              "    [theme=dark] .colab-df-convert:hover {\n",
              "      background-color: #434B5C;\n",
              "      box-shadow: 0px 1px 3px 1px rgba(0, 0, 0, 0.15);\n",
              "      filter: drop-shadow(0px 1px 2px rgba(0, 0, 0, 0.3));\n",
              "      fill: #FFFFFF;\n",
              "    }\n",
              "  </style>\n",
              "\n",
              "      <script>\n",
              "        const buttonEl =\n",
              "          document.querySelector('#df-e6f440a2-e9b9-4d42-b7ea-65a8f1542886 button.colab-df-convert');\n",
              "        buttonEl.style.display =\n",
              "          google.colab.kernel.accessAllowed ? 'block' : 'none';\n",
              "\n",
              "        async function convertToInteractive(key) {\n",
              "          const element = document.querySelector('#df-e6f440a2-e9b9-4d42-b7ea-65a8f1542886');\n",
              "          const dataTable =\n",
              "            await google.colab.kernel.invokeFunction('convertToInteractive',\n",
              "                                                     [key], {});\n",
              "          if (!dataTable) return;\n",
              "\n",
              "          const docLinkHtml = 'Like what you see? Visit the ' +\n",
              "            '<a target=\"_blank\" href=https://colab.research.google.com/notebooks/data_table.ipynb>data table notebook</a>'\n",
              "            + ' to learn more about interactive tables.';\n",
              "          element.innerHTML = '';\n",
              "          dataTable['output_type'] = 'display_data';\n",
              "          await google.colab.output.renderOutput(dataTable, element);\n",
              "          const docLink = document.createElement('div');\n",
              "          docLink.innerHTML = docLinkHtml;\n",
              "          element.appendChild(docLink);\n",
              "        }\n",
              "      </script>\n",
              "    </div>\n",
              "  </div>\n",
              "  "
            ]
          },
          "metadata": {},
          "execution_count": 83
        }
      ]
    },
    {
      "cell_type": "code",
      "source": [
        "df.to_csv(\"100000_tweets_esg.csv\", index = False)"
      ],
      "metadata": {
        "id": "INUHFbvz6ZJ5"
      },
      "execution_count": 84,
      "outputs": []
    },
    {
      "cell_type": "code",
      "source": [
        "df = pd.read_csv(\"100000_tweets_esg.csv\")"
      ],
      "metadata": {
        "id": "cYrf8jWS7Gf3"
      },
      "execution_count": 85,
      "outputs": []
    },
    {
      "cell_type": "code",
      "source": [
        "df.tweet = df.tweet.apply(lambda x: preprocess(x))"
      ],
      "metadata": {
        "id": "4Fk6shGNIAfq"
      },
      "execution_count": 86,
      "outputs": []
    },
    {
      "cell_type": "code",
      "source": [
        "df.head()"
      ],
      "metadata": {
        "colab": {
          "base_uri": "https://localhost:8080/",
          "height": 206
        },
        "id": "-gaXHvrz7Yu1",
        "outputId": "23359b7b-c6bc-4a16-e889-47fad2d0eb1d"
      },
      "execution_count": 87,
      "outputs": [
        {
          "output_type": "execute_result",
          "data": {
            "text/plain": [
              "                                               tweet\n",
              "0  [the, hktdc, hosted, a, webinar, last, month, ...\n",
              "1  [as, the, main, asset, owners, in, the, region...\n",
              "2  [we, are, proud, to, announce, that, our, swed...\n",
              "3  [the, need, for, more, sustainable, investment...\n",
              "4  [9/10, the, value, preservation, imperative, m..."
            ],
            "text/html": [
              "\n",
              "  <div id=\"df-54d1face-6162-41bc-b4b1-df9708b7f8aa\">\n",
              "    <div class=\"colab-df-container\">\n",
              "      <div>\n",
              "<style scoped>\n",
              "    .dataframe tbody tr th:only-of-type {\n",
              "        vertical-align: middle;\n",
              "    }\n",
              "\n",
              "    .dataframe tbody tr th {\n",
              "        vertical-align: top;\n",
              "    }\n",
              "\n",
              "    .dataframe thead th {\n",
              "        text-align: right;\n",
              "    }\n",
              "</style>\n",
              "<table border=\"1\" class=\"dataframe\">\n",
              "  <thead>\n",
              "    <tr style=\"text-align: right;\">\n",
              "      <th></th>\n",
              "      <th>tweet</th>\n",
              "    </tr>\n",
              "  </thead>\n",
              "  <tbody>\n",
              "    <tr>\n",
              "      <th>0</th>\n",
              "      <td>[the, hktdc, hosted, a, webinar, last, month, ...</td>\n",
              "    </tr>\n",
              "    <tr>\n",
              "      <th>1</th>\n",
              "      <td>[as, the, main, asset, owners, in, the, region...</td>\n",
              "    </tr>\n",
              "    <tr>\n",
              "      <th>2</th>\n",
              "      <td>[we, are, proud, to, announce, that, our, swed...</td>\n",
              "    </tr>\n",
              "    <tr>\n",
              "      <th>3</th>\n",
              "      <td>[the, need, for, more, sustainable, investment...</td>\n",
              "    </tr>\n",
              "    <tr>\n",
              "      <th>4</th>\n",
              "      <td>[9/10, the, value, preservation, imperative, m...</td>\n",
              "    </tr>\n",
              "  </tbody>\n",
              "</table>\n",
              "</div>\n",
              "      <button class=\"colab-df-convert\" onclick=\"convertToInteractive('df-54d1face-6162-41bc-b4b1-df9708b7f8aa')\"\n",
              "              title=\"Convert this dataframe to an interactive table.\"\n",
              "              style=\"display:none;\">\n",
              "        \n",
              "  <svg xmlns=\"http://www.w3.org/2000/svg\" height=\"24px\"viewBox=\"0 0 24 24\"\n",
              "       width=\"24px\">\n",
              "    <path d=\"M0 0h24v24H0V0z\" fill=\"none\"/>\n",
              "    <path d=\"M18.56 5.44l.94 2.06.94-2.06 2.06-.94-2.06-.94-.94-2.06-.94 2.06-2.06.94zm-11 1L8.5 8.5l.94-2.06 2.06-.94-2.06-.94L8.5 2.5l-.94 2.06-2.06.94zm10 10l.94 2.06.94-2.06 2.06-.94-2.06-.94-.94-2.06-.94 2.06-2.06.94z\"/><path d=\"M17.41 7.96l-1.37-1.37c-.4-.4-.92-.59-1.43-.59-.52 0-1.04.2-1.43.59L10.3 9.45l-7.72 7.72c-.78.78-.78 2.05 0 2.83L4 21.41c.39.39.9.59 1.41.59.51 0 1.02-.2 1.41-.59l7.78-7.78 2.81-2.81c.8-.78.8-2.07 0-2.86zM5.41 20L4 18.59l7.72-7.72 1.47 1.35L5.41 20z\"/>\n",
              "  </svg>\n",
              "      </button>\n",
              "      \n",
              "  <style>\n",
              "    .colab-df-container {\n",
              "      display:flex;\n",
              "      flex-wrap:wrap;\n",
              "      gap: 12px;\n",
              "    }\n",
              "\n",
              "    .colab-df-convert {\n",
              "      background-color: #E8F0FE;\n",
              "      border: none;\n",
              "      border-radius: 50%;\n",
              "      cursor: pointer;\n",
              "      display: none;\n",
              "      fill: #1967D2;\n",
              "      height: 32px;\n",
              "      padding: 0 0 0 0;\n",
              "      width: 32px;\n",
              "    }\n",
              "\n",
              "    .colab-df-convert:hover {\n",
              "      background-color: #E2EBFA;\n",
              "      box-shadow: 0px 1px 2px rgba(60, 64, 67, 0.3), 0px 1px 3px 1px rgba(60, 64, 67, 0.15);\n",
              "      fill: #174EA6;\n",
              "    }\n",
              "\n",
              "    [theme=dark] .colab-df-convert {\n",
              "      background-color: #3B4455;\n",
              "      fill: #D2E3FC;\n",
              "    }\n",
              "\n",
              "    [theme=dark] .colab-df-convert:hover {\n",
              "      background-color: #434B5C;\n",
              "      box-shadow: 0px 1px 3px 1px rgba(0, 0, 0, 0.15);\n",
              "      filter: drop-shadow(0px 1px 2px rgba(0, 0, 0, 0.3));\n",
              "      fill: #FFFFFF;\n",
              "    }\n",
              "  </style>\n",
              "\n",
              "      <script>\n",
              "        const buttonEl =\n",
              "          document.querySelector('#df-54d1face-6162-41bc-b4b1-df9708b7f8aa button.colab-df-convert');\n",
              "        buttonEl.style.display =\n",
              "          google.colab.kernel.accessAllowed ? 'block' : 'none';\n",
              "\n",
              "        async function convertToInteractive(key) {\n",
              "          const element = document.querySelector('#df-54d1face-6162-41bc-b4b1-df9708b7f8aa');\n",
              "          const dataTable =\n",
              "            await google.colab.kernel.invokeFunction('convertToInteractive',\n",
              "                                                     [key], {});\n",
              "          if (!dataTable) return;\n",
              "\n",
              "          const docLinkHtml = 'Like what you see? Visit the ' +\n",
              "            '<a target=\"_blank\" href=https://colab.research.google.com/notebooks/data_table.ipynb>data table notebook</a>'\n",
              "            + ' to learn more about interactive tables.';\n",
              "          element.innerHTML = '';\n",
              "          dataTable['output_type'] = 'display_data';\n",
              "          await google.colab.output.renderOutput(dataTable, element);\n",
              "          const docLink = document.createElement('div');\n",
              "          docLink.innerHTML = docLinkHtml;\n",
              "          element.appendChild(docLink);\n",
              "        }\n",
              "      </script>\n",
              "    </div>\n",
              "  </div>\n",
              "  "
            ]
          },
          "metadata": {},
          "execution_count": 87
        }
      ]
    },
    {
      "cell_type": "code",
      "source": [
        "sent = [row for row in df.tweet]\n",
        "phrases = Phrases(sent, min_count=1, progress_per=50000)\n",
        "bigram = Phraser(phrases)\n",
        "sentences = bigram[sent]"
      ],
      "metadata": {
        "colab": {
          "base_uri": "https://localhost:8080/"
        },
        "id": "PWlAiWvAJP43",
        "outputId": "cab41f1f-f920-4f91-c133-4ed6b0b65dd1"
      },
      "execution_count": 88,
      "outputs": [
        {
          "output_type": "stream",
          "name": "stderr",
          "text": [
            "INFO - 11:21:21: collecting all words and their counts\n",
            "INFO - 11:21:21: PROGRESS: at sentence #0, processed 0 words and 0 word types\n",
            "INFO - 11:21:21: collected 113936 word types from a corpus of 213207 words (unigram + bigrams) and 7042 sentences\n",
            "INFO - 11:21:21: using 113936 counts as vocab in Phrases<0 vocab, min_count=1, threshold=10.0, max_vocab_size=40000000>\n",
            "INFO - 11:21:21: source_vocab length 113936\n",
            "INFO - 11:21:22: Phraser built with 10070 phrasegrams\n"
          ]
        }
      ]
    },
    {
      "cell_type": "code",
      "source": [
        "w2v_model = Word2Vec(min_count=3,\n",
        "                     window=4,\n",
        "                     sample=1e-5, \n",
        "                     alpha=0.03, \n",
        "                     min_alpha=0.0007, \n",
        "                     negative=20)"
      ],
      "metadata": {
        "id": "tOLe9rEkItMO"
      },
      "execution_count": 89,
      "outputs": []
    },
    {
      "cell_type": "code",
      "source": [
        "w2v_model.build_vocab(sentences, progress_per=50000)"
      ],
      "metadata": {
        "colab": {
          "base_uri": "https://localhost:8080/"
        },
        "id": "NkuPxJDlJZHG",
        "outputId": "7af6c359-c287-497a-cbc0-4a7259604e58"
      },
      "execution_count": 90,
      "outputs": [
        {
          "output_type": "stream",
          "name": "stderr",
          "text": [
            "INFO - 11:21:32: collecting all words and their counts\n",
            "INFO - 11:21:32: PROGRESS: at sentence #0, processed 0 words, keeping 0 word types\n",
            "INFO - 11:21:33: collected 25187 word types from a corpus of 175312 raw words and 7042 sentences\n",
            "INFO - 11:21:33: Loading a fresh vocabulary\n",
            "INFO - 11:21:33: effective_min_count=3 retains 7905 unique words (31% of original 25187, drops 17282)\n",
            "INFO - 11:21:33: effective_min_count=3 leaves 152306 word corpus (86% of original 175312, drops 23006)\n",
            "INFO - 11:21:33: deleting the raw counts dictionary of 25187 items\n",
            "INFO - 11:21:33: sample=1e-05 downsamples 5593 most-common words\n",
            "INFO - 11:21:33: downsampling leaves estimated 39840 word corpus (26.2% of prior 152306)\n",
            "INFO - 11:21:33: estimated required memory for 7905 words and 100 dimensions: 10276500 bytes\n",
            "INFO - 11:21:33: resetting layer weights\n"
          ]
        }
      ]
    },
    {
      "cell_type": "code",
      "source": [
        "w2v_model.train(sentences, total_examples=w2v_model.corpus_count, epochs=30, report_delay=1)"
      ],
      "metadata": {
        "colab": {
          "base_uri": "https://localhost:8080/"
        },
        "id": "cF4D9FnyJ2B-",
        "outputId": "b9e95f47-cc03-42d1-e90f-16379536aacc"
      },
      "execution_count": 91,
      "outputs": [
        {
          "output_type": "stream",
          "name": "stderr",
          "text": [
            "INFO - 11:21:40: training model with 3 workers on 7905 vocabulary and 100 features, using sg=0 hs=0 sample=1e-05 negative=20 window=4\n",
            "INFO - 11:21:41: EPOCH 1 - PROGRESS: at 69.13% examples, 26762 words/s, in_qsize 0, out_qsize 0\n",
            "INFO - 11:21:41: worker thread finished; awaiting finish of 2 more threads\n",
            "INFO - 11:21:41: worker thread finished; awaiting finish of 1 more threads\n",
            "INFO - 11:21:41: worker thread finished; awaiting finish of 0 more threads\n",
            "INFO - 11:21:41: EPOCH - 1 : training on 175312 raw words (39845 effective words) took 1.5s, 26892 effective words/s\n",
            "INFO - 11:21:42: EPOCH 2 - PROGRESS: at 69.13% examples, 26557 words/s, in_qsize 0, out_qsize 0\n",
            "INFO - 11:21:43: worker thread finished; awaiting finish of 2 more threads\n",
            "INFO - 11:21:43: worker thread finished; awaiting finish of 1 more threads\n",
            "INFO - 11:21:43: worker thread finished; awaiting finish of 0 more threads\n",
            "INFO - 11:21:43: EPOCH - 2 : training on 175312 raw words (39672 effective words) took 1.5s, 27284 effective words/s\n",
            "INFO - 11:21:44: EPOCH 3 - PROGRESS: at 80.43% examples, 31703 words/s, in_qsize 0, out_qsize 0\n",
            "INFO - 11:21:44: worker thread finished; awaiting finish of 2 more threads\n",
            "INFO - 11:21:44: worker thread finished; awaiting finish of 1 more threads\n",
            "INFO - 11:21:44: worker thread finished; awaiting finish of 0 more threads\n",
            "INFO - 11:21:44: EPOCH - 3 : training on 175312 raw words (39847 effective words) took 1.1s, 34804 effective words/s\n",
            "INFO - 11:21:45: worker thread finished; awaiting finish of 2 more threads\n",
            "INFO - 11:21:45: worker thread finished; awaiting finish of 1 more threads\n",
            "INFO - 11:21:45: worker thread finished; awaiting finish of 0 more threads\n",
            "INFO - 11:21:45: EPOCH - 4 : training on 175312 raw words (39913 effective words) took 0.7s, 55543 effective words/s\n",
            "INFO - 11:21:45: worker thread finished; awaiting finish of 2 more threads\n",
            "INFO - 11:21:45: worker thread finished; awaiting finish of 1 more threads\n",
            "INFO - 11:21:45: worker thread finished; awaiting finish of 0 more threads\n",
            "INFO - 11:21:45: EPOCH - 5 : training on 175312 raw words (39880 effective words) took 0.7s, 55110 effective words/s\n",
            "INFO - 11:21:46: worker thread finished; awaiting finish of 2 more threads\n",
            "INFO - 11:21:46: worker thread finished; awaiting finish of 1 more threads\n",
            "INFO - 11:21:46: worker thread finished; awaiting finish of 0 more threads\n",
            "INFO - 11:21:46: EPOCH - 6 : training on 175312 raw words (39877 effective words) took 0.7s, 55756 effective words/s\n",
            "INFO - 11:21:47: worker thread finished; awaiting finish of 2 more threads\n",
            "INFO - 11:21:47: worker thread finished; awaiting finish of 1 more threads\n",
            "INFO - 11:21:47: worker thread finished; awaiting finish of 0 more threads\n",
            "INFO - 11:21:47: EPOCH - 7 : training on 175312 raw words (39916 effective words) took 0.7s, 56546 effective words/s\n",
            "INFO - 11:21:48: worker thread finished; awaiting finish of 2 more threads\n",
            "INFO - 11:21:48: worker thread finished; awaiting finish of 1 more threads\n",
            "INFO - 11:21:48: worker thread finished; awaiting finish of 0 more threads\n",
            "INFO - 11:21:48: EPOCH - 8 : training on 175312 raw words (39837 effective words) took 0.7s, 55343 effective words/s\n",
            "INFO - 11:21:48: worker thread finished; awaiting finish of 2 more threads\n",
            "INFO - 11:21:48: worker thread finished; awaiting finish of 1 more threads\n",
            "INFO - 11:21:48: worker thread finished; awaiting finish of 0 more threads\n",
            "INFO - 11:21:48: EPOCH - 9 : training on 175312 raw words (39963 effective words) took 0.7s, 54715 effective words/s\n",
            "INFO - 11:21:49: worker thread finished; awaiting finish of 2 more threads\n",
            "INFO - 11:21:49: worker thread finished; awaiting finish of 1 more threads\n",
            "INFO - 11:21:49: worker thread finished; awaiting finish of 0 more threads\n",
            "INFO - 11:21:49: EPOCH - 10 : training on 175312 raw words (39724 effective words) took 0.7s, 55818 effective words/s\n",
            "INFO - 11:21:50: worker thread finished; awaiting finish of 2 more threads\n",
            "INFO - 11:21:50: worker thread finished; awaiting finish of 1 more threads\n",
            "INFO - 11:21:50: worker thread finished; awaiting finish of 0 more threads\n",
            "INFO - 11:21:50: EPOCH - 11 : training on 175312 raw words (39719 effective words) took 0.7s, 55081 effective words/s\n",
            "INFO - 11:21:50: worker thread finished; awaiting finish of 2 more threads\n",
            "INFO - 11:21:50: worker thread finished; awaiting finish of 1 more threads\n",
            "INFO - 11:21:50: worker thread finished; awaiting finish of 0 more threads\n",
            "INFO - 11:21:50: EPOCH - 12 : training on 175312 raw words (39760 effective words) took 0.7s, 54790 effective words/s\n",
            "INFO - 11:21:51: worker thread finished; awaiting finish of 2 more threads\n",
            "INFO - 11:21:51: worker thread finished; awaiting finish of 1 more threads\n",
            "INFO - 11:21:51: worker thread finished; awaiting finish of 0 more threads\n",
            "INFO - 11:21:51: EPOCH - 13 : training on 175312 raw words (39707 effective words) took 0.7s, 53382 effective words/s\n",
            "INFO - 11:21:52: worker thread finished; awaiting finish of 2 more threads\n",
            "INFO - 11:21:52: worker thread finished; awaiting finish of 1 more threads\n",
            "INFO - 11:21:52: worker thread finished; awaiting finish of 0 more threads\n",
            "INFO - 11:21:52: EPOCH - 14 : training on 175312 raw words (39902 effective words) took 0.7s, 55925 effective words/s\n",
            "INFO - 11:21:53: worker thread finished; awaiting finish of 2 more threads\n",
            "INFO - 11:21:53: worker thread finished; awaiting finish of 1 more threads\n",
            "INFO - 11:21:53: worker thread finished; awaiting finish of 0 more threads\n",
            "INFO - 11:21:53: EPOCH - 15 : training on 175312 raw words (39974 effective words) took 0.7s, 55537 effective words/s\n",
            "INFO - 11:21:53: worker thread finished; awaiting finish of 2 more threads\n",
            "INFO - 11:21:53: worker thread finished; awaiting finish of 1 more threads\n",
            "INFO - 11:21:53: worker thread finished; awaiting finish of 0 more threads\n",
            "INFO - 11:21:53: EPOCH - 16 : training on 175312 raw words (39743 effective words) took 0.7s, 55380 effective words/s\n",
            "INFO - 11:21:54: worker thread finished; awaiting finish of 2 more threads\n",
            "INFO - 11:21:54: worker thread finished; awaiting finish of 1 more threads\n",
            "INFO - 11:21:54: worker thread finished; awaiting finish of 0 more threads\n",
            "INFO - 11:21:54: EPOCH - 17 : training on 175312 raw words (39628 effective words) took 0.7s, 54903 effective words/s\n",
            "INFO - 11:21:55: worker thread finished; awaiting finish of 2 more threads\n",
            "INFO - 11:21:55: worker thread finished; awaiting finish of 1 more threads\n",
            "INFO - 11:21:55: worker thread finished; awaiting finish of 0 more threads\n",
            "INFO - 11:21:55: EPOCH - 18 : training on 175312 raw words (39528 effective words) took 0.7s, 55638 effective words/s\n",
            "INFO - 11:21:56: worker thread finished; awaiting finish of 2 more threads\n",
            "INFO - 11:21:56: worker thread finished; awaiting finish of 1 more threads\n",
            "INFO - 11:21:56: worker thread finished; awaiting finish of 0 more threads\n",
            "INFO - 11:21:56: EPOCH - 19 : training on 175312 raw words (39854 effective words) took 0.7s, 55117 effective words/s\n",
            "INFO - 11:21:56: worker thread finished; awaiting finish of 2 more threads\n",
            "INFO - 11:21:56: worker thread finished; awaiting finish of 1 more threads\n",
            "INFO - 11:21:56: worker thread finished; awaiting finish of 0 more threads\n",
            "INFO - 11:21:56: EPOCH - 20 : training on 175312 raw words (39805 effective words) took 0.7s, 54449 effective words/s\n",
            "INFO - 11:21:57: worker thread finished; awaiting finish of 2 more threads\n",
            "INFO - 11:21:57: worker thread finished; awaiting finish of 1 more threads\n",
            "INFO - 11:21:57: worker thread finished; awaiting finish of 0 more threads\n",
            "INFO - 11:21:57: EPOCH - 21 : training on 175312 raw words (39901 effective words) took 0.7s, 55413 effective words/s\n",
            "INFO - 11:21:58: worker thread finished; awaiting finish of 2 more threads\n",
            "INFO - 11:21:58: worker thread finished; awaiting finish of 1 more threads\n",
            "INFO - 11:21:58: worker thread finished; awaiting finish of 0 more threads\n",
            "INFO - 11:21:58: EPOCH - 22 : training on 175312 raw words (39839 effective words) took 0.7s, 55301 effective words/s\n",
            "INFO - 11:21:59: worker thread finished; awaiting finish of 2 more threads\n",
            "INFO - 11:21:59: worker thread finished; awaiting finish of 1 more threads\n",
            "INFO - 11:21:59: worker thread finished; awaiting finish of 0 more threads\n",
            "INFO - 11:21:59: EPOCH - 23 : training on 175312 raw words (39741 effective words) took 0.7s, 55062 effective words/s\n",
            "INFO - 11:21:59: worker thread finished; awaiting finish of 2 more threads\n",
            "INFO - 11:21:59: worker thread finished; awaiting finish of 1 more threads\n",
            "INFO - 11:21:59: worker thread finished; awaiting finish of 0 more threads\n",
            "INFO - 11:21:59: EPOCH - 24 : training on 175312 raw words (39802 effective words) took 0.7s, 55444 effective words/s\n",
            "INFO - 11:22:00: worker thread finished; awaiting finish of 2 more threads\n",
            "INFO - 11:22:00: worker thread finished; awaiting finish of 1 more threads\n",
            "INFO - 11:22:00: worker thread finished; awaiting finish of 0 more threads\n",
            "INFO - 11:22:00: EPOCH - 25 : training on 175312 raw words (39602 effective words) took 0.7s, 55219 effective words/s\n",
            "INFO - 11:22:01: worker thread finished; awaiting finish of 2 more threads\n",
            "INFO - 11:22:01: worker thread finished; awaiting finish of 1 more threads\n",
            "INFO - 11:22:01: worker thread finished; awaiting finish of 0 more threads\n",
            "INFO - 11:22:01: EPOCH - 26 : training on 175312 raw words (39871 effective words) took 0.7s, 54576 effective words/s\n",
            "INFO - 11:22:02: worker thread finished; awaiting finish of 2 more threads\n",
            "INFO - 11:22:02: worker thread finished; awaiting finish of 1 more threads\n",
            "INFO - 11:22:02: worker thread finished; awaiting finish of 0 more threads\n",
            "INFO - 11:22:02: EPOCH - 27 : training on 175312 raw words (39896 effective words) took 0.7s, 53632 effective words/s\n",
            "INFO - 11:22:02: worker thread finished; awaiting finish of 2 more threads\n",
            "INFO - 11:22:02: worker thread finished; awaiting finish of 1 more threads\n",
            "INFO - 11:22:02: worker thread finished; awaiting finish of 0 more threads\n",
            "INFO - 11:22:02: EPOCH - 28 : training on 175312 raw words (39837 effective words) took 0.7s, 54497 effective words/s\n",
            "INFO - 11:22:03: worker thread finished; awaiting finish of 2 more threads\n",
            "INFO - 11:22:03: worker thread finished; awaiting finish of 1 more threads\n",
            "INFO - 11:22:03: worker thread finished; awaiting finish of 0 more threads\n",
            "INFO - 11:22:03: EPOCH - 29 : training on 175312 raw words (39972 effective words) took 0.7s, 55136 effective words/s\n",
            "INFO - 11:22:04: worker thread finished; awaiting finish of 2 more threads\n",
            "INFO - 11:22:04: worker thread finished; awaiting finish of 1 more threads\n",
            "INFO - 11:22:04: worker thread finished; awaiting finish of 0 more threads\n",
            "INFO - 11:22:04: EPOCH - 30 : training on 175312 raw words (39726 effective words) took 0.7s, 54131 effective words/s\n",
            "INFO - 11:22:04: training on a 5259360 raw words (1194281 effective words) took 24.0s, 49721 effective words/s\n"
          ]
        },
        {
          "output_type": "execute_result",
          "data": {
            "text/plain": [
              "(1194281, 5259360)"
            ]
          },
          "metadata": {},
          "execution_count": 91
        }
      ]
    },
    {
      "cell_type": "code",
      "source": [
        "#w2v_model.save(\"word2vec_#Tesla.model\")\n",
        "#word_vectors = Word2Vec.load(\"word2vec_#Tesla.model\").wv"
      ],
      "metadata": {
        "id": "MAaX2FjIJ8zV"
      },
      "execution_count": 12,
      "outputs": []
    },
    {
      "cell_type": "code",
      "source": [
        "word_vectors = w2v_model.wv"
      ],
      "metadata": {
        "id": "io2KdUhuayuD"
      },
      "execution_count": 93,
      "outputs": []
    },
    {
      "cell_type": "code",
      "source": [
        "model = KMeans(n_clusters=2, max_iter=1000, random_state=True, n_init=50).fit(X=w2v_model.wv.vectors.astype('double'))"
      ],
      "metadata": {
        "id": "LBUr3N3tUon4"
      },
      "execution_count": 94,
      "outputs": []
    },
    {
      "cell_type": "code",
      "source": [
        "word_vectors.similar_by_vector(model.cluster_centers_[1], topn=20, restrict_vocab=None)"
      ],
      "metadata": {
        "colab": {
          "base_uri": "https://localhost:8080/"
        },
        "id": "3TFlwrzGUsGB",
        "outputId": "bfe55ae7-e969-46ae-b611-b409c84def01"
      },
      "execution_count": 96,
      "outputs": [
        {
          "output_type": "execute_result",
          "data": {
            "text/plain": [
              "[('animal', 0.9999197721481323),\n",
              " ('this_episode', 0.9999191761016846),\n",
              " ('ready', 0.99991774559021),\n",
              " ('ban', 0.9999140501022339),\n",
              " ('esgtoday_user', 0.9999138712882996),\n",
              " ('flag', 0.9999130964279175),\n",
              " ('whc2022_sustainability', 0.9999117851257324),\n",
              " ('aligned', 0.999911367893219),\n",
              " ('71', 0.9999109506607056),\n",
              " ('supported_by', 0.9999109506607056),\n",
              " ('secrets', 0.9999107718467712),\n",
              " ('u', 0.999909520149231),\n",
              " ('leap', 0.9999093413352966),\n",
              " ('outlook', 0.9999092817306519),\n",
              " ('greenbonds', 0.9999083280563354),\n",
              " ('sponsored_by', 0.9999071955680847),\n",
              " ('friday', 0.9999070763587952),\n",
              " ('our_planet', 0.9999070167541504),\n",
              " ('argument', 0.9999069571495056),\n",
              " ('mention', 0.9999067783355713)]"
            ]
          },
          "metadata": {},
          "execution_count": 96
        }
      ]
    },
    {
      "cell_type": "code",
      "source": [
        "positive_cluster_index = 1\n",
        "positive_cluster_center = model.cluster_centers_[positive_cluster_index]\n",
        "negative_cluster_center = model.cluster_centers_[1-positive_cluster_index]"
      ],
      "metadata": {
        "id": "vU4YKMLeUvfR"
      },
      "execution_count": 45,
      "outputs": []
    },
    {
      "cell_type": "code",
      "source": [
        "words = pd.DataFrame(word_vectors.index2word)\n",
        "words.columns = ['words']\n",
        "words['vectors'] = words.words.apply(lambda x: word_vectors[f'{x}'])\n",
        "words['cluster'] = words.vectors.apply(lambda x: model.predict([np.array(x)]))\n",
        "words.cluster = words.cluster.apply(lambda x: x[0])"
      ],
      "metadata": {
        "id": "N25iIS-ZUx4Z"
      },
      "execution_count": 25,
      "outputs": []
    },
    {
      "cell_type": "code",
      "source": [
        "words['cluster_value'] = [1 if i==positive_cluster_index else -1 for i in words.cluster]\n",
        "words['closeness_score'] = words.apply(lambda x: 1/(model.transform([x.vectors]).min()), axis=1)\n",
        "words['sentiment_coeff'] = words.closeness_score * words.cluster_value"
      ],
      "metadata": {
        "id": "rULt7LGAUzUl"
      },
      "execution_count": 26,
      "outputs": []
    },
    {
      "cell_type": "code",
      "source": [
        "words.head(100)"
      ],
      "metadata": {
        "colab": {
          "base_uri": "https://localhost:8080/",
          "height": 424
        },
        "id": "OxlklfcXU1ub",
        "outputId": "8a07335e-d7ea-4ec9-b6d5-365df20650be"
      },
      "execution_count": 28,
      "outputs": [
        {
          "output_type": "execute_result",
          "data": {
            "text/plain": [
              "     words                                            vectors  cluster  \\\n",
              "0    tesla  [0.020728745, 0.19216748, 0.124839455, -0.1515...        2   \n",
              "1     user  [0.013822517, 0.09307468, 0.054610573, -0.0721...        3   \n",
              "2     http  [0.012700567, 0.15408088, 0.09388471, -0.10973...        2   \n",
              "3      the  [0.017991967, 0.18609089, 0.11322693, -0.13930...        2   \n",
              "4        a  [0.01618166, 0.1769216, 0.10947525, -0.1335849...        2   \n",
              "..     ...                                                ...      ...   \n",
              "95  modely  [0.0057655363, 0.009893008, 0.0067028073, -0.0...        0   \n",
              "96   about  [0.0074896715, 0.084602125, 0.051615532, -0.06...        3   \n",
              "97     amp  [0.0116495695, 0.057826363, 0.033274837, -0.04...        3   \n",
              "98     000  [0.0007470698, 0.018412301, 0.014753984, -0.01...        1   \n",
              "99      up  [0.0068256427, 0.03926798, 0.024923773, -0.031...        1   \n",
              "\n",
              "    cluster_value  closeness_score  sentiment_coeff  \n",
              "0              -1         1.823851        -1.823851  \n",
              "1              -1         3.648602        -3.648602  \n",
              "2              -1         5.472747        -5.472747  \n",
              "3              -1         2.303094        -2.303094  \n",
              "4              -1         2.500294        -2.500294  \n",
              "..            ...              ...              ...  \n",
              "95             -1        14.950323       -14.950323  \n",
              "96             -1         4.299760        -4.299760  \n",
              "97             -1        32.534349       -32.534349  \n",
              "98              1        12.486751        12.486751  \n",
              "99              1        13.671023        13.671023  \n",
              "\n",
              "[100 rows x 6 columns]"
            ],
            "text/html": [
              "\n",
              "  <div id=\"df-c09616b3-f314-45a8-b849-ca95c661fc3e\">\n",
              "    <div class=\"colab-df-container\">\n",
              "      <div>\n",
              "<style scoped>\n",
              "    .dataframe tbody tr th:only-of-type {\n",
              "        vertical-align: middle;\n",
              "    }\n",
              "\n",
              "    .dataframe tbody tr th {\n",
              "        vertical-align: top;\n",
              "    }\n",
              "\n",
              "    .dataframe thead th {\n",
              "        text-align: right;\n",
              "    }\n",
              "</style>\n",
              "<table border=\"1\" class=\"dataframe\">\n",
              "  <thead>\n",
              "    <tr style=\"text-align: right;\">\n",
              "      <th></th>\n",
              "      <th>words</th>\n",
              "      <th>vectors</th>\n",
              "      <th>cluster</th>\n",
              "      <th>cluster_value</th>\n",
              "      <th>closeness_score</th>\n",
              "      <th>sentiment_coeff</th>\n",
              "    </tr>\n",
              "  </thead>\n",
              "  <tbody>\n",
              "    <tr>\n",
              "      <th>0</th>\n",
              "      <td>tesla</td>\n",
              "      <td>[0.020728745, 0.19216748, 0.124839455, -0.1515...</td>\n",
              "      <td>2</td>\n",
              "      <td>-1</td>\n",
              "      <td>1.823851</td>\n",
              "      <td>-1.823851</td>\n",
              "    </tr>\n",
              "    <tr>\n",
              "      <th>1</th>\n",
              "      <td>user</td>\n",
              "      <td>[0.013822517, 0.09307468, 0.054610573, -0.0721...</td>\n",
              "      <td>3</td>\n",
              "      <td>-1</td>\n",
              "      <td>3.648602</td>\n",
              "      <td>-3.648602</td>\n",
              "    </tr>\n",
              "    <tr>\n",
              "      <th>2</th>\n",
              "      <td>http</td>\n",
              "      <td>[0.012700567, 0.15408088, 0.09388471, -0.10973...</td>\n",
              "      <td>2</td>\n",
              "      <td>-1</td>\n",
              "      <td>5.472747</td>\n",
              "      <td>-5.472747</td>\n",
              "    </tr>\n",
              "    <tr>\n",
              "      <th>3</th>\n",
              "      <td>the</td>\n",
              "      <td>[0.017991967, 0.18609089, 0.11322693, -0.13930...</td>\n",
              "      <td>2</td>\n",
              "      <td>-1</td>\n",
              "      <td>2.303094</td>\n",
              "      <td>-2.303094</td>\n",
              "    </tr>\n",
              "    <tr>\n",
              "      <th>4</th>\n",
              "      <td>a</td>\n",
              "      <td>[0.01618166, 0.1769216, 0.10947525, -0.1335849...</td>\n",
              "      <td>2</td>\n",
              "      <td>-1</td>\n",
              "      <td>2.500294</td>\n",
              "      <td>-2.500294</td>\n",
              "    </tr>\n",
              "    <tr>\n",
              "      <th>...</th>\n",
              "      <td>...</td>\n",
              "      <td>...</td>\n",
              "      <td>...</td>\n",
              "      <td>...</td>\n",
              "      <td>...</td>\n",
              "      <td>...</td>\n",
              "    </tr>\n",
              "    <tr>\n",
              "      <th>95</th>\n",
              "      <td>modely</td>\n",
              "      <td>[0.0057655363, 0.009893008, 0.0067028073, -0.0...</td>\n",
              "      <td>0</td>\n",
              "      <td>-1</td>\n",
              "      <td>14.950323</td>\n",
              "      <td>-14.950323</td>\n",
              "    </tr>\n",
              "    <tr>\n",
              "      <th>96</th>\n",
              "      <td>about</td>\n",
              "      <td>[0.0074896715, 0.084602125, 0.051615532, -0.06...</td>\n",
              "      <td>3</td>\n",
              "      <td>-1</td>\n",
              "      <td>4.299760</td>\n",
              "      <td>-4.299760</td>\n",
              "    </tr>\n",
              "    <tr>\n",
              "      <th>97</th>\n",
              "      <td>amp</td>\n",
              "      <td>[0.0116495695, 0.057826363, 0.033274837, -0.04...</td>\n",
              "      <td>3</td>\n",
              "      <td>-1</td>\n",
              "      <td>32.534349</td>\n",
              "      <td>-32.534349</td>\n",
              "    </tr>\n",
              "    <tr>\n",
              "      <th>98</th>\n",
              "      <td>000</td>\n",
              "      <td>[0.0007470698, 0.018412301, 0.014753984, -0.01...</td>\n",
              "      <td>1</td>\n",
              "      <td>1</td>\n",
              "      <td>12.486751</td>\n",
              "      <td>12.486751</td>\n",
              "    </tr>\n",
              "    <tr>\n",
              "      <th>99</th>\n",
              "      <td>up</td>\n",
              "      <td>[0.0068256427, 0.03926798, 0.024923773, -0.031...</td>\n",
              "      <td>1</td>\n",
              "      <td>1</td>\n",
              "      <td>13.671023</td>\n",
              "      <td>13.671023</td>\n",
              "    </tr>\n",
              "  </tbody>\n",
              "</table>\n",
              "<p>100 rows × 6 columns</p>\n",
              "</div>\n",
              "      <button class=\"colab-df-convert\" onclick=\"convertToInteractive('df-c09616b3-f314-45a8-b849-ca95c661fc3e')\"\n",
              "              title=\"Convert this dataframe to an interactive table.\"\n",
              "              style=\"display:none;\">\n",
              "        \n",
              "  <svg xmlns=\"http://www.w3.org/2000/svg\" height=\"24px\"viewBox=\"0 0 24 24\"\n",
              "       width=\"24px\">\n",
              "    <path d=\"M0 0h24v24H0V0z\" fill=\"none\"/>\n",
              "    <path d=\"M18.56 5.44l.94 2.06.94-2.06 2.06-.94-2.06-.94-.94-2.06-.94 2.06-2.06.94zm-11 1L8.5 8.5l.94-2.06 2.06-.94-2.06-.94L8.5 2.5l-.94 2.06-2.06.94zm10 10l.94 2.06.94-2.06 2.06-.94-2.06-.94-.94-2.06-.94 2.06-2.06.94z\"/><path d=\"M17.41 7.96l-1.37-1.37c-.4-.4-.92-.59-1.43-.59-.52 0-1.04.2-1.43.59L10.3 9.45l-7.72 7.72c-.78.78-.78 2.05 0 2.83L4 21.41c.39.39.9.59 1.41.59.51 0 1.02-.2 1.41-.59l7.78-7.78 2.81-2.81c.8-.78.8-2.07 0-2.86zM5.41 20L4 18.59l7.72-7.72 1.47 1.35L5.41 20z\"/>\n",
              "  </svg>\n",
              "      </button>\n",
              "      \n",
              "  <style>\n",
              "    .colab-df-container {\n",
              "      display:flex;\n",
              "      flex-wrap:wrap;\n",
              "      gap: 12px;\n",
              "    }\n",
              "\n",
              "    .colab-df-convert {\n",
              "      background-color: #E8F0FE;\n",
              "      border: none;\n",
              "      border-radius: 50%;\n",
              "      cursor: pointer;\n",
              "      display: none;\n",
              "      fill: #1967D2;\n",
              "      height: 32px;\n",
              "      padding: 0 0 0 0;\n",
              "      width: 32px;\n",
              "    }\n",
              "\n",
              "    .colab-df-convert:hover {\n",
              "      background-color: #E2EBFA;\n",
              "      box-shadow: 0px 1px 2px rgba(60, 64, 67, 0.3), 0px 1px 3px 1px rgba(60, 64, 67, 0.15);\n",
              "      fill: #174EA6;\n",
              "    }\n",
              "\n",
              "    [theme=dark] .colab-df-convert {\n",
              "      background-color: #3B4455;\n",
              "      fill: #D2E3FC;\n",
              "    }\n",
              "\n",
              "    [theme=dark] .colab-df-convert:hover {\n",
              "      background-color: #434B5C;\n",
              "      box-shadow: 0px 1px 3px 1px rgba(0, 0, 0, 0.15);\n",
              "      filter: drop-shadow(0px 1px 2px rgba(0, 0, 0, 0.3));\n",
              "      fill: #FFFFFF;\n",
              "    }\n",
              "  </style>\n",
              "\n",
              "      <script>\n",
              "        const buttonEl =\n",
              "          document.querySelector('#df-c09616b3-f314-45a8-b849-ca95c661fc3e button.colab-df-convert');\n",
              "        buttonEl.style.display =\n",
              "          google.colab.kernel.accessAllowed ? 'block' : 'none';\n",
              "\n",
              "        async function convertToInteractive(key) {\n",
              "          const element = document.querySelector('#df-c09616b3-f314-45a8-b849-ca95c661fc3e');\n",
              "          const dataTable =\n",
              "            await google.colab.kernel.invokeFunction('convertToInteractive',\n",
              "                                                     [key], {});\n",
              "          if (!dataTable) return;\n",
              "\n",
              "          const docLinkHtml = 'Like what you see? Visit the ' +\n",
              "            '<a target=\"_blank\" href=https://colab.research.google.com/notebooks/data_table.ipynb>data table notebook</a>'\n",
              "            + ' to learn more about interactive tables.';\n",
              "          element.innerHTML = '';\n",
              "          dataTable['output_type'] = 'display_data';\n",
              "          await google.colab.output.renderOutput(dataTable, element);\n",
              "          const docLink = document.createElement('div');\n",
              "          docLink.innerHTML = docLinkHtml;\n",
              "          element.appendChild(docLink);\n",
              "        }\n",
              "      </script>\n",
              "    </div>\n",
              "  </div>\n",
              "  "
            ]
          },
          "metadata": {},
          "execution_count": 28
        }
      ]
    },
    {
      "cell_type": "code",
      "source": [
        ""
      ],
      "metadata": {
        "id": "zfrRuVJ650cW"
      },
      "execution_count": null,
      "outputs": []
    }
  ]
}