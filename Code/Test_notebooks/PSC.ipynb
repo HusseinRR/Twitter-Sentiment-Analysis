{
 "cells": [
  {
   "cell_type": "markdown",
   "id": "184ebd40",
   "metadata": {},
   "source": [
    "## Part 1: Logistic Regression - Binary Classification"
   ]
  },
  {
   "cell_type": "code",
   "execution_count": 1,
   "id": "94db9be4",
   "metadata": {},
   "outputs": [],
   "source": [
    "import pandas as pd\n",
    "from sklearn.model_selection import train_test_split\n",
    "from sklearn.linear_model import LogisticRegression\n",
    "import matplotlib.pyplot as plt\n",
    "import seaborn as sns\n",
    "from sklearn import metrics"
   ]
  },
  {
   "cell_type": "code",
   "execution_count": 2,
   "id": "575b4b44",
   "metadata": {},
   "outputs": [],
   "source": [
    "import spacy\n",
    "nlp = spacy.load('fr_core_news_sm')"
   ]
  },
  {
   "cell_type": "code",
   "execution_count": 4,
   "id": "7fe35c8c",
   "metadata": {},
   "outputs": [],
   "source": [
    "data = pd.read_csv('C:/Users/Joseph Moussa/Desktop/X/2A/PSC/TweetDatabase.csv')"
   ]
  },
  {
   "cell_type": "code",
   "execution_count": 5,
   "id": "1f920f44",
   "metadata": {},
   "outputs": [
    {
     "data": {
      "text/html": [
       "<div>\n",
       "<style scoped>\n",
       "    .dataframe tbody tr th:only-of-type {\n",
       "        vertical-align: middle;\n",
       "    }\n",
       "\n",
       "    .dataframe tbody tr th {\n",
       "        vertical-align: top;\n",
       "    }\n",
       "\n",
       "    .dataframe thead tr th {\n",
       "        text-align: left;\n",
       "    }\n",
       "\n",
       "    .dataframe thead tr:last-of-type th {\n",
       "        text-align: right;\n",
       "    }\n",
       "</style>\n",
       "<table border=\"1\" class=\"dataframe\">\n",
       "  <thead>\n",
       "    <tr>\n",
       "      <th></th>\n",
       "      <th colspan=\"4\" halign=\"left\">Tweet</th>\n",
       "    </tr>\n",
       "    <tr>\n",
       "      <th></th>\n",
       "      <th>count</th>\n",
       "      <th>unique</th>\n",
       "      <th>top</th>\n",
       "      <th>freq</th>\n",
       "    </tr>\n",
       "    <tr>\n",
       "      <th>Political</th>\n",
       "      <th></th>\n",
       "      <th></th>\n",
       "      <th></th>\n",
       "      <th></th>\n",
       "    </tr>\n",
       "  </thead>\n",
       "  <tbody>\n",
       "    <tr>\n",
       "      <th>0.0</th>\n",
       "      <td>181</td>\n",
       "      <td>180</td>\n",
       "      <td>\"Les Lions Indomptables exhortent les fans de ...</td>\n",
       "      <td>2</td>\n",
       "    </tr>\n",
       "    <tr>\n",
       "      <th>1.0</th>\n",
       "      <td>882</td>\n",
       "      <td>864</td>\n",
       "      <td>#Melenchon2022</td>\n",
       "      <td>3</td>\n",
       "    </tr>\n",
       "  </tbody>\n",
       "</table>\n",
       "</div>"
      ],
      "text/plain": [
       "          Tweet                                                               \n",
       "          count unique                                                top freq\n",
       "Political                                                                     \n",
       "0.0         181    180  \"Les Lions Indomptables exhortent les fans de ...    2\n",
       "1.0         882    864                                     #Melenchon2022    3"
      ]
     },
     "execution_count": 5,
     "metadata": {},
     "output_type": "execute_result"
    }
   ],
   "source": [
    "df = data[['Tweet', 'Political']]\n",
    "df = df.dropna()\n",
    "df.groupby(['Political']).describe()"
   ]
  },
  {
   "cell_type": "code",
   "execution_count": 6,
   "id": "e539fd2b",
   "metadata": {},
   "outputs": [],
   "source": [
    "X = []\n",
    "for tweet in df['Tweet']:\n",
    "    tweet = nlp(tweet).vector\n",
    "    X.append(tweet)"
   ]
  },
  {
   "cell_type": "code",
   "execution_count": 7,
   "id": "ab05a6ab",
   "metadata": {},
   "outputs": [],
   "source": [
    "X_train, X_test, Y_train, Y_test = train_test_split(X, df['Political'], test_size = 0.2, random_state = 1)"
   ]
  },
  {
   "cell_type": "code",
   "execution_count": 8,
   "id": "1b01bdf1",
   "metadata": {},
   "outputs": [
    {
     "data": {
      "text/plain": [
       "{'C': 0.1}"
      ]
     },
     "execution_count": 8,
     "metadata": {},
     "output_type": "execute_result"
    }
   ],
   "source": [
    "# Let us check the best parameter C for our logistic regression\n",
    "from sklearn.model_selection import GridSearchCV\n",
    "\n",
    "parameters = {'C':[0.1, 0.2, 0.3, 0.4, 0.5, 1, 2, 3, 5, 10, 20, 100, 1000]}\n",
    "log_reg_model = LogisticRegression(solver = 'lbfgs', max_iter = 1000)\n",
    "cv = GridSearchCV(log_reg_model, parameters)\n",
    "cv.fit(X_train, Y_train)\n",
    "cv.best_params_"
   ]
  },
  {
   "cell_type": "code",
   "execution_count": 9,
   "id": "ac651fdf",
   "metadata": {},
   "outputs": [],
   "source": [
    "model = LogisticRegression(solver = 'lbfgs', max_iter = 1000, C = 0.1, class_weight = {0:0.7, 1:0.3})\n",
    "model.fit(X_train, Y_train)\n",
    "def simple_logistic_classify(X_test, Y_test):\n",
    "    score = model.score(X_test, Y_test)\n",
    "    print('The model score is: {0}%'.format(score*100))"
   ]
  },
  {
   "cell_type": "code",
   "execution_count": 10,
   "id": "236c3d30",
   "metadata": {},
   "outputs": [
    {
     "name": "stdout",
     "output_type": "stream",
     "text": [
      "The model score is: 88.26291079812206%\n"
     ]
    }
   ],
   "source": [
    "simple_logistic_classify(X_test, Y_test)"
   ]
  },
  {
   "cell_type": "code",
   "execution_count": 11,
   "id": "216707e6",
   "metadata": {},
   "outputs": [
    {
     "name": "stdout",
     "output_type": "stream",
     "text": [
      "Accuracy Score: 0.8826291079812206\n"
     ]
    },
    {
     "data": {
      "image/png": "[encoded data removed]",
      "text/plain": [
       "<Figure size 648x648 with 2 Axes>"
      ]
     },
     "metadata": {
      "needs_background": "light"
     },
     "output_type": "display_data"
    }
   ],
   "source": [
    "predictions = model.predict(X_test)\n",
    "cm = metrics.confusion_matrix(Y_test, predictions)\n",
    "plt.figure(figsize=(9,9))\n",
    "sns.heatmap(cm, annot=True, fmt=\".3f\", linewidths=.5, square = True, cmap = 'Blues_r');\n",
    "plt.ylabel('Actual label');\n",
    "plt.xlabel('Predicted label');\n",
    "all_sample_title = 'Accuracy Score: {0}'.format(model.score(X_test, Y_test))\n",
    "print(all_sample_title)"
   ]
  },
  {
   "cell_type": "markdown",
   "id": "4beaf878",
   "metadata": {},
   "source": [
    "## Part 2: Logistic Regression - MultiClass Classification"
   ]
  },
  {
   "cell_type": "code",
   "execution_count": 12,
   "id": "ed3a4ce8",
   "metadata": {},
   "outputs": [],
   "source": [
    "data = pd.read_csv('C:/Users/Joseph Moussa/Desktop/X/2A/PSC/TweetDatabase.csv')"
   ]
  },
  {
   "cell_type": "code",
   "execution_count": 13,
   "id": "bc8d9e34",
   "metadata": {},
   "outputs": [
    {
     "data": {
      "text/html": [
       "<div>\n",
       "<style scoped>\n",
       "    .dataframe tbody tr th:only-of-type {\n",
       "        vertical-align: middle;\n",
       "    }\n",
       "\n",
       "    .dataframe tbody tr th {\n",
       "        vertical-align: top;\n",
       "    }\n",
       "\n",
       "    .dataframe thead tr th {\n",
       "        text-align: left;\n",
       "    }\n",
       "\n",
       "    .dataframe thead tr:last-of-type th {\n",
       "        text-align: right;\n",
       "    }\n",
       "</style>\n",
       "<table border=\"1\" class=\"dataframe\">\n",
       "  <thead>\n",
       "    <tr>\n",
       "      <th></th>\n",
       "      <th colspan=\"4\" halign=\"left\">Tweet</th>\n",
       "    </tr>\n",
       "    <tr>\n",
       "      <th></th>\n",
       "      <th>count</th>\n",
       "      <th>unique</th>\n",
       "      <th>top</th>\n",
       "      <th>freq</th>\n",
       "    </tr>\n",
       "    <tr>\n",
       "      <th>Score Vector [Far Right, Right, Center, Left, Far Left]</th>\n",
       "      <th></th>\n",
       "      <th></th>\n",
       "      <th></th>\n",
       "      <th></th>\n",
       "    </tr>\n",
       "  </thead>\n",
       "  <tbody>\n",
       "    <tr>\n",
       "      <th>[0,0,0,0,1]</th>\n",
       "      <td>177</td>\n",
       "      <td>172</td>\n",
       "      <td>#Melenchon2022</td>\n",
       "      <td>3</td>\n",
       "    </tr>\n",
       "    <tr>\n",
       "      <th>[0,0,0,1,0]</th>\n",
       "      <td>175</td>\n",
       "      <td>173</td>\n",
       "      <td>#HidalgoPresidente</td>\n",
       "      <td>2</td>\n",
       "    </tr>\n",
       "    <tr>\n",
       "      <th>[0,0,1,0,0]</th>\n",
       "      <td>176</td>\n",
       "      <td>171</td>\n",
       "      <td>Christian Schotettl, maire de Janvry, sur l'ai...</td>\n",
       "      <td>2</td>\n",
       "    </tr>\n",
       "    <tr>\n",
       "      <th>[0,1,0,0,0]</th>\n",
       "      <td>178</td>\n",
       "      <td>175</td>\n",
       "      <td>Il était de Grenoble. Il était de notre région...</td>\n",
       "      <td>2</td>\n",
       "    </tr>\n",
       "    <tr>\n",
       "      <th>[1,0,0,0,0]</th>\n",
       "      <td>176</td>\n",
       "      <td>173</td>\n",
       "      <td>#Z2022</td>\n",
       "      <td>2</td>\n",
       "    </tr>\n",
       "  </tbody>\n",
       "</table>\n",
       "</div>"
      ],
      "text/plain": [
       "                                                   Tweet         \\\n",
       "                                                   count unique   \n",
       "Score Vector [Far Right, Right, Center, Left, F...                \n",
       "[0,0,0,0,1]                                          177    172   \n",
       "[0,0,0,1,0]                                          175    173   \n",
       "[0,0,1,0,0]                                          176    171   \n",
       "[0,1,0,0,0]                                          178    175   \n",
       "[1,0,0,0,0]                                          176    173   \n",
       "\n",
       "                                                                                                       \\\n",
       "                                                                                                  top   \n",
       "Score Vector [Far Right, Right, Center, Left, F...                                                      \n",
       "[0,0,0,0,1]                                                                            #Melenchon2022   \n",
       "[0,0,0,1,0]                                                                        #HidalgoPresidente   \n",
       "[0,0,1,0,0]                                         Christian Schotettl, maire de Janvry, sur l'ai...   \n",
       "[0,1,0,0,0]                                         Il était de Grenoble. Il était de notre région...   \n",
       "[1,0,0,0,0]                                                                                    #Z2022   \n",
       "\n",
       "                                                         \n",
       "                                                   freq  \n",
       "Score Vector [Far Right, Right, Center, Left, F...       \n",
       "[0,0,0,0,1]                                           3  \n",
       "[0,0,0,1,0]                                           2  \n",
       "[0,0,1,0,0]                                           2  \n",
       "[0,1,0,0,0]                                           2  \n",
       "[1,0,0,0,0]                                           2  "
      ]
     },
     "execution_count": 13,
     "metadata": {},
     "output_type": "execute_result"
    }
   ],
   "source": [
    "df = data[['Tweet', 'Score Vector [Far Right, Right, Center, Left, Far Left]']]\n",
    "df = df.dropna()\n",
    "df.groupby(['Score Vector [Far Right, Right, Center, Left, Far Left]']).describe()"
   ]
  },
  {
   "cell_type": "code",
   "execution_count": 14,
   "id": "9fe4548b",
   "metadata": {},
   "outputs": [],
   "source": [
    "X = []\n",
    "for tweet in df['Tweet']:\n",
    "    tweet = nlp(tweet).vector\n",
    "    X.append(tweet)"
   ]
  },
  {
   "cell_type": "code",
   "execution_count": 15,
   "id": "96d88171",
   "metadata": {},
   "outputs": [],
   "source": [
    "X_train, X_test, Y_train, Y_test = train_test_split(X, df['Score Vector [Far Right, Right, Center, Left, Far Left]'], test_size = 0.2, random_state = 1)"
   ]
  },
  {
   "cell_type": "code",
   "execution_count": 16,
   "id": "e26261c8",
   "metadata": {},
   "outputs": [
    {
     "data": {
      "text/plain": [
       "{'C': 0.1}"
      ]
     },
     "execution_count": 16,
     "metadata": {},
     "output_type": "execute_result"
    }
   ],
   "source": [
    "# Let us check the best parameter C for our logistic regression\n",
    "from sklearn.model_selection import GridSearchCV\n",
    "\n",
    "parameters = {'C':[0.1, 0.2, 0.3, 0.4, 0.5, 1, 2, 3, 5, 10, 20, 100, 1000]}\n",
    "log_reg_model = LogisticRegression(multi_class = 'multinomial', solver = 'lbfgs', warm_start = False, max_iter = 100000)\n",
    "cv = GridSearchCV(log_reg_model, parameters)\n",
    "cv.fit(X_train, Y_train)\n",
    "cv.best_params_"
   ]
  },
  {
   "cell_type": "code",
   "execution_count": 99,
   "id": "e41d428d",
   "metadata": {},
   "outputs": [],
   "source": [
    "model_2 = LogisticRegression(multi_class = 'multinomial', solver = 'lbfgs', warm_start = False, max_iter = 100000, C = 0.35)\n",
    "model_2.fit(X_train, Y_train)\n",
    "def multi_logistic_classify(X_test, Y_test):\n",
    "    score = model_2.score(X_test, Y_test)\n",
    "    print('The model score is: {0}%'.format(score*100))"
   ]
  },
  {
   "cell_type": "code",
   "execution_count": 100,
   "id": "bb2f1fc9",
   "metadata": {},
   "outputs": [
    {
     "name": "stdout",
     "output_type": "stream",
     "text": [
      "Accuracy Score: 0.3389830508474576\n"
     ]
    },
    {
     "data": {
      "image/png": "[encoded data removed]",
      "text/plain": [
       "<Figure size 648x648 with 2 Axes>"
      ]
     },
     "metadata": {
      "needs_background": "light"
     },
     "output_type": "display_data"
    }
   ],
   "source": [
    "predictions = model_2.predict(X_test)\n",
    "cm = metrics.confusion_matrix(Y_test, predictions)\n",
    "plt.figure(figsize=(9,9))\n",
    "sns.heatmap(cm, annot=True, fmt=\".3f\", linewidths=.5, square = True, cmap = 'Blues_r');\n",
    "plt.ylabel('Actual label');\n",
    "plt.xlabel('Predicted label');\n",
    "all_sample_title = 'Accuracy Score: {0}'.format(model_2.score(X_test, Y_test))\n",
    "print(all_sample_title)"
   ]
  },
  {
   "cell_type": "markdown",
   "id": "0bc556ff",
   "metadata": {},
   "source": [
    "## Part 3: Twitter Scraping"
   ]
  },
  {
   "cell_type": "code",
   "execution_count": 101,
   "id": "34ad7008",
   "metadata": {},
   "outputs": [],
   "source": [
    "import os\n",
    "import tweepy as tw\n",
    "import pandas as pd\n",
    "from credentials import *\n",
    "import numpy as np  \n",
    "from tqdm.notebook import tqdm\n",
    "\n",
    "consumer_key= 'GoN90XkTehFV4lNMk1Whk8JYe'\n",
    "consumer_secret= 'WCpGzX2T67hAF56EU1qdAFo0lO5EoIv7fgrEoNtwa8dvv1fuLz'\n",
    "access_token= '1417219540904259594-CdqMIpFBK10mF7eY9l2LRBNW1PbD53'\n",
    "access_token_secret= 'G1P2vYYXB3BeShIG5fvPEgYMFpY5sB0LMfS5mfHk2yLz9'\n",
    "#bnerbflerf nblcwebfle\n",
    "auth = tw.OAuthHandler(consumer_key, consumer_secret)\n",
    "auth.set_access_token(access_token, access_token_secret)\n",
    "api = tw.API(auth, wait_on_rate_limit=True)"
   ]
  },
  {
   "cell_type": "code",
   "execution_count": 102,
   "id": "f1dd3dc3",
   "metadata": {},
   "outputs": [],
   "source": [
    "tweet_dataset = pd.DataFrame(columns=[\"tweet_id\",'user_id', \"created_at\",\"favorite_count\",\"retweet\", \"text\",\"categorie\"])\n",
    "user_dataset = pd.DataFrame(columns=['User Id', 'Tweet Number', 'Categorie'])"
   ]
  },
  {
   "cell_type": "code",
   "execution_count": 103,
   "id": "35eb9140",
   "metadata": {},
   "outputs": [],
   "source": [
    "userIDdepart = \"EmmanuelMacron\"\n",
    "# Setting the depth level n \n",
    "n = 2\n",
    "def est_dans(userID):\n",
    "    for name in user_dataset[\"User Id\"]:\n",
    "        if userID == name:\n",
    "            return True\n",
    "    return False"
   ]
  },
  {
   "cell_type": "code",
   "execution_count": 104,
   "id": "e9bc8aee",
   "metadata": {},
   "outputs": [],
   "source": [
    "def get_tweets(userID):\n",
    "    global user_dataset\n",
    "    tweets = api.user_timeline(screen_name=userID, \n",
    "                           # 200 is the maximum allowed count\n",
    "                           count = 10,\n",
    "                           include_rts = False,\n",
    "                           # Necessary to keep full_text \n",
    "                           # otherwise only the first 140 words are extracted\n",
    "                           tweet_mode = 'extended'\n",
    "                           )\n",
    "\n",
    "    all_tweets = []\n",
    "    all_tweets.extend(tweets)\n",
    "    oldest_id = tweets[-1].id\n",
    "    i = 1\n",
    "    while i > 0:\n",
    "        tweets = api.user_timeline(screen_name=userID, \n",
    "                           # 200 is the maximum allowed count\n",
    "                           count = 10,\n",
    "                           include_rts = False, #to keep full text\n",
    "                           max_id = oldest_id - 1,\n",
    "                           tweet_mode = 'extended'\n",
    "                           )\n",
    "        if len(tweets) == 0:\n",
    "            break\n",
    "        oldest_id = tweets[-1].id\n",
    "        all_tweets.extend(tweets)\n",
    "        i = i-1\n",
    "\n",
    "    outtweets = [[tweet.id_str, userID,  \n",
    "                  tweet.created_at, \n",
    "                  tweet.favorite_count, \n",
    "                  [], \n",
    "                  tweet.full_text.encode(\"utf-8\").decode(\"utf-8\"),[0,0,0,0,0]] \n",
    "                 for idx,tweet in enumerate(all_tweets)]\n",
    "    df = pd.DataFrame(outtweets,columns=[\"tweet_id\",'user_id', \"created_at\",\"favorite_count\",\"retweet\", \"text\",\"categorie\"])\n",
    "    # If we want to change columns' names, change the index of df\n",
    "    # Update user dataframe with new user info\n",
    "    user_dataset = user_dataset.append({'User Id': userID, 'Tweet Number': len(df.index),'Categorie':[0,0,0,0,0]}, ignore_index=True)\n",
    "\n",
    "    \n",
    "    return df"
   ]
  },
  {
   "cell_type": "code",
   "execution_count": 105,
   "id": "2f7a1da7",
   "metadata": {},
   "outputs": [],
   "source": [
    "def get_tweets_global(n,userID):\n",
    "    \n",
    "    if n == 0 or est_dans(userID):\n",
    "        return tweet_dataset.loc[tweet_dataset['user_id'] == userID]\n",
    "    \n",
    "    df = get_tweets(userID)\n",
    "    \n",
    "    \n",
    "    for row in tqdm(df.index, desc = \"Total Progress: \"):\n",
    "        \n",
    "        ID = df['tweet_id'][row]\n",
    "        tweet = str(df['text'][row])\n",
    "        \n",
    "        if (model.predict([nlp(tweet).vector]) == 0):\n",
    "            df.drop([row], inplace = True)\n",
    "            \n",
    "        else:\n",
    "            \n",
    "            prediction = model_2.predict([nlp(tweet).vector])\n",
    "            df.at[row,'categorie'] = prediction\n",
    "            retweets_list = api.get_retweets(ID,count=5) \n",
    "            \n",
    "            for retweet in retweets_list:\n",
    "                try:\n",
    "                    get_tweets_global(n-1,retweet.user.screen_name)\n",
    "                    df.at[row, 'retweet'].append(retweet.user.screen_name) \n",
    "                    \n",
    "                except:\n",
    "                    break\n",
    "        df = df.dropna(axis = 0)\n",
    "                    \n",
    "    return df.loc[df['user_id'] == userID]"
   ]
  },
  {
   "cell_type": "code",
   "execution_count": 106,
   "id": "51e9296a",
   "metadata": {},
   "outputs": [],
   "source": [
    "def compute_mean_political_score(user_ID):\n",
    "    df_user = get_tweets_global(1, user_ID)\n",
    "    N = len(df_user.index)\n",
    "    \n",
    "    extreme_right = 0\n",
    "    right = 0\n",
    "    center = 0\n",
    "    left = 0\n",
    "    extreme_left = 0\n",
    "    \n",
    "    for row in df_user.index:\n",
    "        if df_user['categorie'][row][0] == '[1,0,0,0,0]':\n",
    "            extreme_right += 1\n",
    "        if df_user['categorie'][row][0] == '[0,1,0,0,0]':\n",
    "            right +=1\n",
    "        if df_user['categorie'][row][0] == '[0,0,1,0,0]':\n",
    "            center +=1\n",
    "        if df_user['categorie'][row][0] == '[0,0,0,1,0]':\n",
    "            left +=1\n",
    "        if df_user['categorie'][row][0] == '[0,0,0,0,1]':\n",
    "            extreme_left += 1\n",
    "    \n",
    "    return [extreme_right / N, right / N, center / N, left / N, extreme_left / N]"
   ]
  },
  {
   "cell_type": "code",
   "execution_count": null,
   "id": "472e9dff",
   "metadata": {},
   "outputs": [
    {
     "data": {
      "application/vnd.jupyter.widget-view+json": {
       "model_id": "7f7cd1ff97134995ae1574386cd2f652",
       "version_major": 2,
       "version_minor": 0
      },
      "text/plain": [
       "Total Progress:   0%|          | 0/18 [00:00<?, ?it/s]"
      ]
     },
     "metadata": {},
     "output_type": "display_data"
    },
    {
     "name": "stdout",
     "output_type": "stream",
     "text": [
      "Pour ZemmourEric le score est: [0.06666666666666667, 0.4, 0.13333333333333333, 0.2, 0.2] \n"
     ]
    },
    {
     "data": {
      "application/vnd.jupyter.widget-view+json": {
       "model_id": "d026325d6c60443f98167a1193d0bfa6",
       "version_major": 2,
       "version_minor": 0
      },
      "text/plain": [
       "Total Progress:   0%|          | 0/20 [00:00<?, ?it/s]"
      ]
     },
     "metadata": {},
     "output_type": "display_data"
    },
    {
     "name": "stdout",
     "output_type": "stream",
     "text": [
      "Pour EmmanuelMacron le score est: [0.1875, 0.5, 0.1875, 0.0625, 0.0625] \n"
     ]
    },
    {
     "data": {
      "application/vnd.jupyter.widget-view+json": {
       "model_id": "2a830c9922654ec8aafdf1f255b32c78",
       "version_major": 2,
       "version_minor": 0
      },
      "text/plain": [
       "Total Progress:   0%|          | 0/19 [00:00<?, ?it/s]"
      ]
     },
     "metadata": {},
     "output_type": "display_data"
    },
    {
     "name": "stdout",
     "output_type": "stream",
     "text": [
      "Pour JLMelenchon le score est: [0.1111111111111111, 0.1111111111111111, 0.3888888888888889, 0.05555555555555555, 0.3333333333333333] \n"
     ]
    },
    {
     "data": {
      "application/vnd.jupyter.widget-view+json": {
       "model_id": "1be63ffad7344506afdf86ba6a405d3d",
       "version_major": 2,
       "version_minor": 0
      },
      "text/plain": [
       "Total Progress:   0%|          | 0/19 [00:00<?, ?it/s]"
      ]
     },
     "metadata": {},
     "output_type": "display_data"
    },
    {
     "name": "stdout",
     "output_type": "stream",
     "text": [
      "Pour MLP_officiel le score est: [0.05555555555555555, 0.4444444444444444, 0.1111111111111111, 0.1111111111111111, 0.2777777777777778] \n"
     ]
    },
    {
     "data": {
      "application/vnd.jupyter.widget-view+json": {
       "model_id": "cd3461797c3c4fb98b2a8990568b0d0b",
       "version_major": 2,
       "version_minor": 0
      },
      "text/plain": [
       "Total Progress:   0%|          | 0/15 [00:00<?, ?it/s]"
      ]
     },
     "metadata": {},
     "output_type": "display_data"
    },
    {
     "name": "stderr",
     "output_type": "stream",
     "text": [
      "Rate limit reached. Sleeping for: 868\n"
     ]
    }
   ],
   "source": [
    "for e in [\"ZemmourEric\", \"EmmanuelMacron\", \"JLMelenchon\", \"MLP_officiel\", \"Anne_Hidalgo\"]:\n",
    "    print(\"Pour {0} le score est: {1} \".format(e, compute_mean_political_score(e)))"
   ]
  }
 ],
 "metadata": {
  "kernelspec": {
   "display_name": "Python 3",
   "language": "python",
   "name": "python3"
  },
  "language_info": {
   "codemirror_mode": {
    "name": "ipython",
    "version": 3
   },
   "file_extension": ".py",
   "mimetype": "text/x-python",
   "name": "python",
   "nbconvert_exporter": "python",
   "pygments_lexer": "ipython3",
   "version": "3.8.8"
  }
 },
 "nbformat": 4,
 "nbformat_minor": 5
}
